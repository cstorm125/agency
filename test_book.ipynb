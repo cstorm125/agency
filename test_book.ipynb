{
 "cells": [
  {
   "cell_type": "markdown",
   "metadata": {},
   "source": [
    "# Predict Ads Agency Salary"
   ]
  },
  {
   "cell_type": "markdown",
   "metadata": {},
   "source": [
    "Based on the [Real Agency Salaries](https://www.campaignlive.com/article/creative-ad-agency-salaries-laid-bare-public-spreadsheet/) dataset, your task is to create a model that accurately predicts a person working in an ads agency based on features given in the dataset."
   ]
  },
  {
   "cell_type": "code",
   "execution_count": 2,
   "metadata": {},
   "outputs": [],
   "source": [
    "%matplotlib inline\n",
    "import pandas as pd\n",
    "import numpy as np\n",
    "from plotnine import *\n",
    "import re"
   ]
  },
  {
   "cell_type": "code",
   "execution_count": 3,
   "metadata": {},
   "outputs": [
    {
     "data": {
      "text/plain": [
       "(4812, 17)"
      ]
     },
     "execution_count": 3,
     "metadata": {},
     "output_type": "execute_result"
    }
   ],
   "source": [
    "df = pd.read_csv('data/agency_table.csv')\n",
    "df.shape"
   ]
  },
  {
   "cell_type": "markdown",
   "metadata": {},
   "source": [
    "## Data Cleaning"
   ]
  },
  {
   "cell_type": "markdown",
   "metadata": {},
   "source": [
    "### Target - `salary`"
   ]
  },
  {
   "cell_type": "markdown",
   "metadata": {},
   "source": [
    "Clean the `salary` column so that it is a numeric column with correct numbers. Beware of outliers and unorthodox ways to entering numbers such as 50k and 100-200k."
   ]
  },
  {
   "cell_type": "code",
   "execution_count": 4,
   "metadata": {},
   "outputs": [
    {
     "data": {
      "text/plain": [
       "count    4.799000e+03\n",
       "mean     4.499279e+13\n",
       "std      2.894620e+15\n",
       "min      0.000000e+00\n",
       "25%      5.500000e+04\n",
       "50%      7.500000e+04\n",
       "75%      1.150000e+05\n",
       "max      2.000002e+17\n",
       "Name: salary, dtype: float64"
      ]
     },
     "execution_count": 4,
     "metadata": {},
     "output_type": "execute_result"
    }
   ],
   "source": [
    "#some examples of how you can clean some\n",
    "df['salary'] = df.salary.map(lambda x: x.lower())\n",
    "df['salary'] = df.salary.map(lambda x: re.sub(',','', str(x)))\n",
    "df['salary'] = df.salary.map(lambda x: x.split('.')[0])\n",
    "df['salary'] = df.salary.map(lambda x: re.sub('(?<=[0-9])k','000', str(x)))\n",
    "df['salary'] = df.salary.map(lambda x: re.sub('[^0-9]','', str(x)))\n",
    "df['salary'] = pd.to_numeric(df.salary)\n",
    "df.salary.describe()"
   ]
  },
  {
   "cell_type": "code",
   "execution_count": 5,
   "metadata": {},
   "outputs": [
    {
     "data": {
      "text/plain": [
       "(47, 17)"
      ]
     },
     "execution_count": 5,
     "metadata": {},
     "output_type": "execute_result"
    }
   ],
   "source": [
    "#some miscleaned outliers\n",
    "df[df.salary>1e6].shape"
   ]
  },
  {
   "cell_type": "code",
   "execution_count": 6,
   "metadata": {},
   "outputs": [
    {
     "data": {
      "text/plain": [
       "(129, 17)"
      ]
     },
     "execution_count": 6,
     "metadata": {},
     "output_type": "execute_result"
    }
   ],
   "source": [
    "#some miscleaned outliers\n",
    "df[df.salary<1000].shape"
   ]
  },
  {
   "cell_type": "markdown",
   "metadata": {},
   "source": [
    "### Features"
   ]
  },
  {
   "cell_type": "markdown",
   "metadata": {},
   "source": [
    "Clean also the features which as mostly categorical:\n",
    "\n",
    "* company\n",
    "* department\n",
    "* title\n",
    "* currency\n",
    "* gender\n",
    "* race\n",
    "* sexual_orientation\n",
    "* country\n",
    "* city\n",
    "* inhouse\n",
    "* happy_salary\n",
    "\n",
    "But also some numerical variables that you can transform into categorical variables if they are too sparse (such as `nb_awards_*`)\n",
    "* exp_years\n",
    "* nb_jobs\n",
    "* nb_awards_top\n",
    "* nb_awards_inter\n",
    "* nb_awards_local"
   ]
  },
  {
   "cell_type": "code",
   "execution_count": 7,
   "metadata": {},
   "outputs": [
    {
     "data": {
      "text/plain": [
       "Index(['company', 'department', 'title', 'salary', 'currency', 'gender',\n",
       "       'race', 'sexual_orientation', 'exp_years', 'country', 'city', 'inhouse',\n",
       "       'nb_jobs', 'happy_salary', 'nb_awards_top', 'nb_awards_inter',\n",
       "       'nb_awards_local'],\n",
       "      dtype='object')"
      ]
     },
     "execution_count": 7,
     "metadata": {},
     "output_type": "execute_result"
    }
   ],
   "source": [
    "df.columns"
   ]
  },
  {
   "cell_type": "markdown",
   "metadata": {},
   "source": [
    "## Exploration"
   ]
  },
  {
   "cell_type": "markdown",
   "metadata": {},
   "source": [
    "Explore the cleaned dataset to see the distribution of each variable as well as one-to-one relationship between all interesting variable pairs."
   ]
  },
  {
   "cell_type": "markdown",
   "metadata": {},
   "source": [
    "## Modeling"
   ]
  },
  {
   "cell_type": "markdown",
   "metadata": {},
   "source": [
    "Create a model that predicts `salary` with 20% randomly held out validation set."
   ]
  },
  {
   "cell_type": "code",
   "execution_count": null,
   "metadata": {},
   "outputs": [],
   "source": []
  }
 ],
 "metadata": {
  "kernelspec": {
   "display_name": "Python 3",
   "language": "python",
   "name": "python3"
  },
  "language_info": {
   "codemirror_mode": {
    "name": "ipython",
    "version": 3
   },
   "file_extension": ".py",
   "mimetype": "text/x-python",
   "name": "python",
   "nbconvert_exporter": "python",
   "pygments_lexer": "ipython3",
   "version": "3.7.3"
  }
 },
 "nbformat": 4,
 "nbformat_minor": 2
}
